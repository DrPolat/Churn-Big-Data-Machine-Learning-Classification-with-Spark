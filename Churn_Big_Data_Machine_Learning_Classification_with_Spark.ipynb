{
  "nbformat": 4,
  "nbformat_minor": 0,
  "metadata": {
    "colab": {
      "provenance": []
    },
    "kernelspec": {
      "name": "python3",
      "display_name": "Python 3"
    },
    "language_info": {
      "name": "python"
    }
  },
  "cells": [
    {
      "cell_type": "markdown",
      "source": [
        "## <font color=\"purple\">Importing the libraries"
      ],
      "metadata": {
        "id": "G4QJ8ugG8slC"
      }
    },
    {
      "cell_type": "code",
      "execution_count": 51,
      "metadata": {
        "colab": {
          "base_uri": "https://localhost:8080/"
        },
        "id": "MezWX8sLCSDc",
        "outputId": "cfab82fa-8743-45f3-a332-1364cf82e1d6"
      },
      "outputs": [
        {
          "output_type": "stream",
          "name": "stdout",
          "text": [
            "Looking in indexes: https://pypi.org/simple, https://us-python.pkg.dev/colab-wheels/public/simple/\n",
            "Requirement already satisfied: pyspark in /usr/local/lib/python3.9/dist-packages (3.3.2)\n",
            "Requirement already satisfied: py4j==0.10.9.5 in /usr/local/lib/python3.9/dist-packages (from pyspark) (0.10.9.5)\n"
          ]
        }
      ],
      "source": [
        "pip install pyspark"
      ]
    },
    {
      "cell_type": "code",
      "source": [
        "# churn : müşteri kaybı"
      ],
      "metadata": {
        "id": "DX7nfh4j2bZQ"
      },
      "execution_count": 52,
      "outputs": []
    },
    {
      "cell_type": "code",
      "source": [
        "from pyspark import SparkConf,SparkContext\n",
        "import collections #başka pclerde yapılan işlemleri topluyor"
      ],
      "metadata": {
        "id": "_tUXwDe8Ccql"
      },
      "execution_count": 53,
      "outputs": []
    },
    {
      "cell_type": "code",
      "source": [
        "from pyspark.ml.classification import GBTClassifier\n"
      ],
      "metadata": {
        "id": "EyhFGd5_EJs1"
      },
      "execution_count": 54,
      "outputs": []
    },
    {
      "cell_type": "markdown",
      "source": [
        "## <font color=\"purple\"> Spark session oluşturma"
      ],
      "metadata": {
        "id": "jiRyi-Iw8wlv"
      }
    },
    {
      "cell_type": "markdown",
      "source": [
        "* Spark session: bir spark uygulaması çalıştırmak için gerekli olan spark core üzerinde yüksek düzey bir API'dir. Spark session, spark uygulamasında kullanılacak tüm spark işlevlerine erişmek için bir arayüz sağlar ve ayrıca spark contextini psark sql işlevlerini spark streaming işlevlerini ve MLlib işlevlerini içeren diğer spark bileşenlerini de yönetir"
      ],
      "metadata": {
        "id": "hZPHVVtV9GXm"
      }
    },
    {
      "cell_type": "code",
      "source": [
        "from pyspark.sql import SparkSession\n",
        "\n",
        "#spark session oluşturma\n",
        "spark= SparkSession.builder.appName(\"churn_prediction\").getOrCreate()\n",
        "\n",
        "\n",
        "#veri setini dataframe olarak yükleme\n",
        "\n",
        "df= spark.read.format(\"csv\").option(\"header\",\"true\").load(\"churn.csv\")"
      ],
      "metadata": {
        "id": "ycSbXgcQGdKM"
      },
      "execution_count": 55,
      "outputs": []
    },
    {
      "cell_type": "code",
      "source": [
        "df.show()"
      ],
      "metadata": {
        "colab": {
          "base_uri": "https://localhost:8080/"
        },
        "id": "law4vZQpF5ki",
        "outputId": "238c378b-51f7-443d-bd45-941ef9ee76a7"
      },
      "execution_count": 56,
      "outputs": [
        {
          "output_type": "stream",
          "name": "stdout",
          "text": [
            "+---+-------------------+----+--------------+---------------+-----+---------+-----+\n",
            "|_c0|              Names| Age|Total_Purchase|Account_Manager|Years|Num_Sites|Churn|\n",
            "+---+-------------------+----+--------------+---------------+-----+---------+-----+\n",
            "|  0|   Cameron Williams|42.0|       11066.8|              0| 7.22|      8.0|    1|\n",
            "|  1|      Kevin Mueller|41.0|      11916.22|              0|  6.5|     11.0|    1|\n",
            "|  2|        Eric Lozano|38.0|      12884.75|              0| 6.67|     12.0|    1|\n",
            "|  3|      Phillip White|42.0|       8010.76|              0| 6.71|     10.0|    1|\n",
            "|  4|     Cynthia Norton|37.0|       9191.58|              0| 5.56|      9.0|    1|\n",
            "|  5|   Jessica Williams|48.0|      10356.02|              0| 5.12|      8.0|    1|\n",
            "|  6|        Eric Butler|44.0|      11331.58|              1| 5.23|     11.0|    1|\n",
            "|  7|      Zachary Walsh|32.0|       9885.12|              1| 6.92|      9.0|    1|\n",
            "|  8|        Ashlee Carr|43.0|       14062.6|              1| 5.46|     11.0|    1|\n",
            "|  9|     Jennifer Lynch|40.0|       8066.94|              1| 7.11|     11.0|    1|\n",
            "| 10|       Paula Harris|30.0|      11575.37|              1| 5.22|      8.0|    1|\n",
            "| 11|     Bruce Phillips|45.0|       8771.02|              1| 6.64|     11.0|    1|\n",
            "| 12|       Craig Garner|45.0|       8988.67|              1| 4.84|     11.0|    1|\n",
            "| 13|       Nicole Olson|40.0|       8283.32|              1|  5.1|     13.0|    1|\n",
            "| 14|     Harold Griffin|41.0|       6569.87|              1|  4.3|     11.0|    1|\n",
            "| 15|       James Wright|38.0|      10494.82|              1| 6.81|     12.0|    1|\n",
            "| 16|      Doris Wilkins|45.0|       8213.41|              1| 7.35|     11.0|    1|\n",
            "| 17|Katherine Carpenter|43.0|      11226.88|              0| 8.08|     12.0|    1|\n",
            "| 18|     Lindsay Martin|53.0|       5515.09|              0| 6.85|      8.0|    1|\n",
            "| 19|        Kathy Curry|46.0|        8046.4|              1| 5.69|      8.0|    1|\n",
            "+---+-------------------+----+--------------+---------------+-----+---------+-----+\n",
            "only showing top 20 rows\n",
            "\n"
          ]
        }
      ]
    },
    {
      "cell_type": "markdown",
      "source": [
        "## <font color=\"purple\"> Exploratory Data Analysis"
      ],
      "metadata": {
        "id": "-G_BTY-4866J"
      }
    },
    {
      "cell_type": "code",
      "source": [
        "df.count()"
      ],
      "metadata": {
        "colab": {
          "base_uri": "https://localhost:8080/"
        },
        "id": "scR8qr9RGUCB",
        "outputId": "188ab89e-d249-4346-b5d9-719e4684ddc2"
      },
      "execution_count": 57,
      "outputs": [
        {
          "output_type": "execute_result",
          "data": {
            "text/plain": [
              "900"
            ]
          },
          "metadata": {},
          "execution_count": 57
        }
      ]
    },
    {
      "cell_type": "code",
      "source": [
        "len(df.columns)"
      ],
      "metadata": {
        "colab": {
          "base_uri": "https://localhost:8080/"
        },
        "id": "_FBFnLEkF-eF",
        "outputId": "6aff57d0-8c28-4dcd-cc7a-4c0053f2aef9"
      },
      "execution_count": 58,
      "outputs": [
        {
          "output_type": "execute_result",
          "data": {
            "text/plain": [
              "8"
            ]
          },
          "metadata": {},
          "execution_count": 58
        }
      ]
    },
    {
      "cell_type": "code",
      "source": [
        "df.printSchema()"
      ],
      "metadata": {
        "colab": {
          "base_uri": "https://localhost:8080/"
        },
        "id": "BSTb09LsGZ8A",
        "outputId": "55deef10-cd22-41b6-864a-e90df8dd10ba"
      },
      "execution_count": 59,
      "outputs": [
        {
          "output_type": "stream",
          "name": "stdout",
          "text": [
            "root\n",
            " |-- _c0: string (nullable = true)\n",
            " |-- Names: string (nullable = true)\n",
            " |-- Age: string (nullable = true)\n",
            " |-- Total_Purchase: string (nullable = true)\n",
            " |-- Account_Manager: string (nullable = true)\n",
            " |-- Years: string (nullable = true)\n",
            " |-- Num_Sites: string (nullable = true)\n",
            " |-- Churn: string (nullable = true)\n",
            "\n"
          ]
        }
      ]
    },
    {
      "cell_type": "code",
      "source": [
        "df=df.withColumnRenamed(\"_c0\",\"index\")"
      ],
      "metadata": {
        "id": "p7z3QMDX26Wv"
      },
      "execution_count": 60,
      "outputs": []
    },
    {
      "cell_type": "code",
      "source": [
        "df.printSchema()"
      ],
      "metadata": {
        "colab": {
          "base_uri": "https://localhost:8080/"
        },
        "id": "AqijTEMa3AN1",
        "outputId": "c65dfd8d-de4f-4ee3-a77e-a920e59cc693"
      },
      "execution_count": 61,
      "outputs": [
        {
          "output_type": "stream",
          "name": "stdout",
          "text": [
            "root\n",
            " |-- index: string (nullable = true)\n",
            " |-- Names: string (nullable = true)\n",
            " |-- Age: string (nullable = true)\n",
            " |-- Total_Purchase: string (nullable = true)\n",
            " |-- Account_Manager: string (nullable = true)\n",
            " |-- Years: string (nullable = true)\n",
            " |-- Num_Sites: string (nullable = true)\n",
            " |-- Churn: string (nullable = true)\n",
            "\n"
          ]
        }
      ]
    },
    {
      "cell_type": "code",
      "source": [
        "#distinct() metodu sadece benzersiz değerleri getirir\n",
        "df.select(\"names\").distinct().count() #names sütununda benzesiz olan değerlerin sayısını hesaplar"
      ],
      "metadata": {
        "colab": {
          "base_uri": "https://localhost:8080/"
        },
        "id": "AkYmLyKt3DVo",
        "outputId": "411a568a-2d9f-4da3-b349-3662afe123e9"
      },
      "execution_count": 62,
      "outputs": [
        {
          "output_type": "execute_result",
          "data": {
            "text/plain": [
              "899"
            ]
          },
          "metadata": {},
          "execution_count": 62
        }
      ]
    },
    {
      "cell_type": "code",
      "source": [
        "df.groupBy(\"names\").count().sort(\"count\",ascending=False).show(5)"
      ],
      "metadata": {
        "colab": {
          "base_uri": "https://localhost:8080/"
        },
        "id": "x-W6TQ-x3gVs",
        "outputId": "d92e58b6-4aad-4c0e-f71a-b03885bbdb1e"
      },
      "execution_count": 63,
      "outputs": [
        {
          "output_type": "stream",
          "name": "stdout",
          "text": [
            "+----------------+-----+\n",
            "|           names|count|\n",
            "+----------------+-----+\n",
            "|   Jennifer Wood|    2|\n",
            "|    Patrick Bell|    1|\n",
            "|   Chelsea Marsh|    1|\n",
            "|Patrick Robinson|    1|\n",
            "|     John Barber|    1|\n",
            "+----------------+-----+\n",
            "only showing top 5 rows\n",
            "\n"
          ]
        }
      ]
    },
    {
      "cell_type": "code",
      "source": [
        "df.filter(df[\"names\"] == \"Jennifer Wood\").show()"
      ],
      "metadata": {
        "colab": {
          "base_uri": "https://localhost:8080/"
        },
        "id": "-NMbrFpN3rXL",
        "outputId": "11513c52-bf75-4f41-fe42-bf95a21fe110"
      },
      "execution_count": 64,
      "outputs": [
        {
          "output_type": "stream",
          "name": "stdout",
          "text": [
            "+-----+-------------+----+--------------+---------------+-----+---------+-----+\n",
            "|index|        Names| Age|Total_Purchase|Account_Manager|Years|Num_Sites|Churn|\n",
            "+-----+-------------+----+--------------+---------------+-----+---------+-----+\n",
            "|   22|Jennifer Wood|35.0|       9381.12|              1| 6.78|     11.0|    1|\n",
            "|  439|Jennifer Wood|48.0|      11585.16|              0| 4.61|      9.0|    0|\n",
            "+-----+-------------+----+--------------+---------------+-----+---------+-----+\n",
            "\n"
          ]
        }
      ]
    },
    {
      "cell_type": "code",
      "source": [
        "#Jennifer Wood isimli iki farklı kişi var"
      ],
      "metadata": {
        "id": "Kw3CGLJC36rI"
      },
      "execution_count": 65,
      "outputs": []
    },
    {
      "cell_type": "code",
      "source": [
        "df.describe().show()"
      ],
      "metadata": {
        "colab": {
          "base_uri": "https://localhost:8080/"
        },
        "id": "PYDQCWZK4FpR",
        "outputId": "8a50ed1f-c093-4286-c67b-a339c716794c"
      },
      "execution_count": 66,
      "outputs": [
        {
          "output_type": "stream",
          "name": "stdout",
          "text": [
            "+-------+------------------+-------------+-----------------+-----------------+------------------+-----------------+------------------+-------------------+\n",
            "|summary|             index|        Names|              Age|   Total_Purchase|   Account_Manager|            Years|         Num_Sites|              Churn|\n",
            "+-------+------------------+-------------+-----------------+-----------------+------------------+-----------------+------------------+-------------------+\n",
            "|  count|               900|          900|              900|              900|               900|              900|               900|                900|\n",
            "|   mean|             449.5|         null|41.81666666666667|10062.82403333334|0.4811111111111111| 5.27315555555555| 8.587777777777777|0.16666666666666666|\n",
            "| stddev|259.95191863111916|         null|6.127560416916251|2408.644531858096|0.4999208935073339|1.274449013194616|1.7648355920350969| 0.3728852122772358|\n",
            "|    min|                 0|   Aaron King|             22.0|            100.0|                 0|              1.0|              10.0|                  0|\n",
            "|    max|                99|Zachary Walsh|             65.0|           9993.5|                 1|             9.15|               9.0|                  1|\n",
            "+-------+------------------+-------------+-----------------+-----------------+------------------+-----------------+------------------+-------------------+\n",
            "\n"
          ]
        }
      ]
    },
    {
      "cell_type": "code",
      "source": [
        "#transpose(): pandas dataframesinde sütunları satırlara ve satırları sütunlara dönüştürür"
      ],
      "metadata": {
        "id": "UYB6dC9p4uau"
      },
      "execution_count": 67,
      "outputs": []
    },
    {
      "cell_type": "code",
      "source": [
        "df.describe().toPandas().transpose() # bu pyspark kodu bir dataframedeki sayısal sütunların temel istatistiksel özetlerini hesaplar ve bir pandas dataframesine dönüştürür"
      ],
      "metadata": {
        "colab": {
          "base_uri": "https://localhost:8080/",
          "height": 331
        },
        "id": "vHq5MZdP4PxD",
        "outputId": "c4dbdc66-b4f4-4405-dead-d17046304d36"
      },
      "execution_count": 68,
      "outputs": [
        {
          "output_type": "execute_result",
          "data": {
            "text/plain": [
              "                     0                    1                   2           3  \\\n",
              "summary          count                 mean              stddev         min   \n",
              "index              900                449.5  259.95191863111916           0   \n",
              "Names              900                 None                None  Aaron King   \n",
              "Age                900    41.81666666666667   6.127560416916251        22.0   \n",
              "Total_Purchase     900    10062.82403333334   2408.644531858096       100.0   \n",
              "Account_Manager    900   0.4811111111111111  0.4999208935073339           0   \n",
              "Years              900     5.27315555555555   1.274449013194616         1.0   \n",
              "Num_Sites          900    8.587777777777777  1.7648355920350969        10.0   \n",
              "Churn              900  0.16666666666666666  0.3728852122772358           0   \n",
              "\n",
              "                             4  \n",
              "summary                    max  \n",
              "index                       99  \n",
              "Names            Zachary Walsh  \n",
              "Age                       65.0  \n",
              "Total_Purchase          9993.5  \n",
              "Account_Manager              1  \n",
              "Years                     9.15  \n",
              "Num_Sites                  9.0  \n",
              "Churn                        1  "
            ],
            "text/html": [
              "\n",
              "  <div id=\"df-e47ac2e8-68b6-4898-8d0c-5d6ffd2f8ace\">\n",
              "    <div class=\"colab-df-container\">\n",
              "      <div>\n",
              "<style scoped>\n",
              "    .dataframe tbody tr th:only-of-type {\n",
              "        vertical-align: middle;\n",
              "    }\n",
              "\n",
              "    .dataframe tbody tr th {\n",
              "        vertical-align: top;\n",
              "    }\n",
              "\n",
              "    .dataframe thead th {\n",
              "        text-align: right;\n",
              "    }\n",
              "</style>\n",
              "<table border=\"1\" class=\"dataframe\">\n",
              "  <thead>\n",
              "    <tr style=\"text-align: right;\">\n",
              "      <th></th>\n",
              "      <th>0</th>\n",
              "      <th>1</th>\n",
              "      <th>2</th>\n",
              "      <th>3</th>\n",
              "      <th>4</th>\n",
              "    </tr>\n",
              "  </thead>\n",
              "  <tbody>\n",
              "    <tr>\n",
              "      <th>summary</th>\n",
              "      <td>count</td>\n",
              "      <td>mean</td>\n",
              "      <td>stddev</td>\n",
              "      <td>min</td>\n",
              "      <td>max</td>\n",
              "    </tr>\n",
              "    <tr>\n",
              "      <th>index</th>\n",
              "      <td>900</td>\n",
              "      <td>449.5</td>\n",
              "      <td>259.95191863111916</td>\n",
              "      <td>0</td>\n",
              "      <td>99</td>\n",
              "    </tr>\n",
              "    <tr>\n",
              "      <th>Names</th>\n",
              "      <td>900</td>\n",
              "      <td>None</td>\n",
              "      <td>None</td>\n",
              "      <td>Aaron King</td>\n",
              "      <td>Zachary Walsh</td>\n",
              "    </tr>\n",
              "    <tr>\n",
              "      <th>Age</th>\n",
              "      <td>900</td>\n",
              "      <td>41.81666666666667</td>\n",
              "      <td>6.127560416916251</td>\n",
              "      <td>22.0</td>\n",
              "      <td>65.0</td>\n",
              "    </tr>\n",
              "    <tr>\n",
              "      <th>Total_Purchase</th>\n",
              "      <td>900</td>\n",
              "      <td>10062.82403333334</td>\n",
              "      <td>2408.644531858096</td>\n",
              "      <td>100.0</td>\n",
              "      <td>9993.5</td>\n",
              "    </tr>\n",
              "    <tr>\n",
              "      <th>Account_Manager</th>\n",
              "      <td>900</td>\n",
              "      <td>0.4811111111111111</td>\n",
              "      <td>0.4999208935073339</td>\n",
              "      <td>0</td>\n",
              "      <td>1</td>\n",
              "    </tr>\n",
              "    <tr>\n",
              "      <th>Years</th>\n",
              "      <td>900</td>\n",
              "      <td>5.27315555555555</td>\n",
              "      <td>1.274449013194616</td>\n",
              "      <td>1.0</td>\n",
              "      <td>9.15</td>\n",
              "    </tr>\n",
              "    <tr>\n",
              "      <th>Num_Sites</th>\n",
              "      <td>900</td>\n",
              "      <td>8.587777777777777</td>\n",
              "      <td>1.7648355920350969</td>\n",
              "      <td>10.0</td>\n",
              "      <td>9.0</td>\n",
              "    </tr>\n",
              "    <tr>\n",
              "      <th>Churn</th>\n",
              "      <td>900</td>\n",
              "      <td>0.16666666666666666</td>\n",
              "      <td>0.3728852122772358</td>\n",
              "      <td>0</td>\n",
              "      <td>1</td>\n",
              "    </tr>\n",
              "  </tbody>\n",
              "</table>\n",
              "</div>\n",
              "      <button class=\"colab-df-convert\" onclick=\"convertToInteractive('df-e47ac2e8-68b6-4898-8d0c-5d6ffd2f8ace')\"\n",
              "              title=\"Convert this dataframe to an interactive table.\"\n",
              "              style=\"display:none;\">\n",
              "        \n",
              "  <svg xmlns=\"http://www.w3.org/2000/svg\" height=\"24px\"viewBox=\"0 0 24 24\"\n",
              "       width=\"24px\">\n",
              "    <path d=\"M0 0h24v24H0V0z\" fill=\"none\"/>\n",
              "    <path d=\"M18.56 5.44l.94 2.06.94-2.06 2.06-.94-2.06-.94-.94-2.06-.94 2.06-2.06.94zm-11 1L8.5 8.5l.94-2.06 2.06-.94-2.06-.94L8.5 2.5l-.94 2.06-2.06.94zm10 10l.94 2.06.94-2.06 2.06-.94-2.06-.94-.94-2.06-.94 2.06-2.06.94z\"/><path d=\"M17.41 7.96l-1.37-1.37c-.4-.4-.92-.59-1.43-.59-.52 0-1.04.2-1.43.59L10.3 9.45l-7.72 7.72c-.78.78-.78 2.05 0 2.83L4 21.41c.39.39.9.59 1.41.59.51 0 1.02-.2 1.41-.59l7.78-7.78 2.81-2.81c.8-.78.8-2.07 0-2.86zM5.41 20L4 18.59l7.72-7.72 1.47 1.35L5.41 20z\"/>\n",
              "  </svg>\n",
              "      </button>\n",
              "      \n",
              "  <style>\n",
              "    .colab-df-container {\n",
              "      display:flex;\n",
              "      flex-wrap:wrap;\n",
              "      gap: 12px;\n",
              "    }\n",
              "\n",
              "    .colab-df-convert {\n",
              "      background-color: #E8F0FE;\n",
              "      border: none;\n",
              "      border-radius: 50%;\n",
              "      cursor: pointer;\n",
              "      display: none;\n",
              "      fill: #1967D2;\n",
              "      height: 32px;\n",
              "      padding: 0 0 0 0;\n",
              "      width: 32px;\n",
              "    }\n",
              "\n",
              "    .colab-df-convert:hover {\n",
              "      background-color: #E2EBFA;\n",
              "      box-shadow: 0px 1px 2px rgba(60, 64, 67, 0.3), 0px 1px 3px 1px rgba(60, 64, 67, 0.15);\n",
              "      fill: #174EA6;\n",
              "    }\n",
              "\n",
              "    [theme=dark] .colab-df-convert {\n",
              "      background-color: #3B4455;\n",
              "      fill: #D2E3FC;\n",
              "    }\n",
              "\n",
              "    [theme=dark] .colab-df-convert:hover {\n",
              "      background-color: #434B5C;\n",
              "      box-shadow: 0px 1px 3px 1px rgba(0, 0, 0, 0.15);\n",
              "      filter: drop-shadow(0px 1px 2px rgba(0, 0, 0, 0.3));\n",
              "      fill: #FFFFFF;\n",
              "    }\n",
              "  </style>\n",
              "\n",
              "      <script>\n",
              "        const buttonEl =\n",
              "          document.querySelector('#df-e47ac2e8-68b6-4898-8d0c-5d6ffd2f8ace button.colab-df-convert');\n",
              "        buttonEl.style.display =\n",
              "          google.colab.kernel.accessAllowed ? 'block' : 'none';\n",
              "\n",
              "        async function convertToInteractive(key) {\n",
              "          const element = document.querySelector('#df-e47ac2e8-68b6-4898-8d0c-5d6ffd2f8ace');\n",
              "          const dataTable =\n",
              "            await google.colab.kernel.invokeFunction('convertToInteractive',\n",
              "                                                     [key], {});\n",
              "          if (!dataTable) return;\n",
              "\n",
              "          const docLinkHtml = 'Like what you see? Visit the ' +\n",
              "            '<a target=\"_blank\" href=https://colab.research.google.com/notebooks/data_table.ipynb>data table notebook</a>'\n",
              "            + ' to learn more about interactive tables.';\n",
              "          element.innerHTML = '';\n",
              "          dataTable['output_type'] = 'display_data';\n",
              "          await google.colab.output.renderOutput(dataTable, element);\n",
              "          const docLink = document.createElement('div');\n",
              "          docLink.innerHTML = docLinkHtml;\n",
              "          element.appendChild(docLink);\n",
              "        }\n",
              "      </script>\n",
              "    </div>\n",
              "  </div>\n",
              "  "
            ]
          },
          "metadata": {},
          "execution_count": 68
        }
      ]
    },
    {
      "cell_type": "code",
      "source": [
        "df.summary().show()"
      ],
      "metadata": {
        "colab": {
          "base_uri": "https://localhost:8080/"
        },
        "id": "5dsFeVAq46zH",
        "outputId": "b8cc41f4-dbe4-4f1c-9555-492b3ccf5986"
      },
      "execution_count": 69,
      "outputs": [
        {
          "output_type": "stream",
          "name": "stdout",
          "text": [
            "+-------+------------------+-------------+-----------------+-----------------+------------------+-----------------+------------------+-------------------+\n",
            "|summary|             index|        Names|              Age|   Total_Purchase|   Account_Manager|            Years|         Num_Sites|              Churn|\n",
            "+-------+------------------+-------------+-----------------+-----------------+------------------+-----------------+------------------+-------------------+\n",
            "|  count|               900|          900|              900|              900|               900|              900|               900|                900|\n",
            "|   mean|             449.5|         null|41.81666666666667|10062.82403333334|0.4811111111111111| 5.27315555555555| 8.587777777777777|0.16666666666666666|\n",
            "| stddev|259.95191863111916|         null|6.127560416916251|2408.644531858096|0.4999208935073339|1.274449013194616|1.7648355920350969| 0.3728852122772358|\n",
            "|    min|                 0|   Aaron King|             22.0|            100.0|                 0|              1.0|              10.0|                  0|\n",
            "|    25%|             224.0|         null|             38.0|          8480.93|               0.0|             4.45|               7.0|                0.0|\n",
            "|    50%|             449.0|         null|             42.0|         10041.13|               0.0|             5.21|               8.0|                0.0|\n",
            "|    75%|             674.0|         null|             46.0|         11758.69|               1.0|             6.11|              10.0|                0.0|\n",
            "|    max|                99|Zachary Walsh|             65.0|           9993.5|                 1|             9.15|               9.0|                  1|\n",
            "+-------+------------------+-------------+-----------------+-----------------+------------------+-----------------+------------------+-------------------+\n",
            "\n"
          ]
        }
      ]
    },
    {
      "cell_type": "code",
      "source": [
        "df.dtypes"
      ],
      "metadata": {
        "colab": {
          "base_uri": "https://localhost:8080/"
        },
        "id": "veOdTpJN6xC0",
        "outputId": "60f5314e-3e4f-41ce-9824-b012b3c196a3"
      },
      "execution_count": 70,
      "outputs": [
        {
          "output_type": "execute_result",
          "data": {
            "text/plain": [
              "[('index', 'string'),\n",
              " ('Names', 'string'),\n",
              " ('Age', 'string'),\n",
              " ('Total_Purchase', 'string'),\n",
              " ('Account_Manager', 'string'),\n",
              " ('Years', 'string'),\n",
              " ('Num_Sites', 'string'),\n",
              " ('Churn', 'string')]"
            ]
          },
          "metadata": {},
          "execution_count": 70
        }
      ]
    },
    {
      "cell_type": "code",
      "source": [
        "df.columns"
      ],
      "metadata": {
        "colab": {
          "base_uri": "https://localhost:8080/"
        },
        "id": "2sZJJwWg78OV",
        "outputId": "0092cdb7-6794-4a5a-ebd4-7107cfd6fcb6"
      },
      "execution_count": 71,
      "outputs": [
        {
          "output_type": "execute_result",
          "data": {
            "text/plain": [
              "['index',\n",
              " 'Names',\n",
              " 'Age',\n",
              " 'Total_Purchase',\n",
              " 'Account_Manager',\n",
              " 'Years',\n",
              " 'Num_Sites',\n",
              " 'Churn']"
            ]
          },
          "metadata": {},
          "execution_count": 71
        }
      ]
    },
    {
      "cell_type": "code",
      "source": [
        "df=df.dropna()"
      ],
      "metadata": {
        "id": "axQyzvkV-jA_"
      },
      "execution_count": 72,
      "outputs": []
    },
    {
      "cell_type": "code",
      "source": [
        "df.count()"
      ],
      "metadata": {
        "colab": {
          "base_uri": "https://localhost:8080/"
        },
        "id": "yU-UTbCP-rW3",
        "outputId": "e24857a1-270c-47b6-85cb-536e8df2349a"
      },
      "execution_count": 73,
      "outputs": [
        {
          "output_type": "execute_result",
          "data": {
            "text/plain": [
              "900"
            ]
          },
          "metadata": {},
          "execution_count": 73
        }
      ]
    },
    {
      "cell_type": "markdown",
      "source": [
        "## <font color=\"purple\"> Preparing the Model"
      ],
      "metadata": {
        "id": "zFIyvlAz9i1E"
      }
    },
    {
      "cell_type": "markdown",
      "source": [
        "* Bağımlı değişken, genellikle hedef değişken olarak adlandırılır ve modelin öğrenmek istediği şeydir. Bu durumda \"Churn\" sütunu, müşterilerin ayrılma durumunu belirttiği için bağımlı değişken olarak seçilmiştir. MOdel, diğer değişkenlerin müiterilerin ayrılma kararları üzerindeki etkisini öğrenirken \"Churn\" sütunundaki verileri tahmin etmek için eğitilecektir\n",
        "\n",
        "\n",
        "* StringIndexer, kategorik bir değişkeni numerik bir değişkene döndürmek için kullanılır. Bu durumda \"Churn\" sütunu \"label\" olarak adlandırılan bir numerik değikene dönüştürülecektir. BU, modelin veriyi işlemesine ve bağımlı değişken üzerinde tahmin yapmasına olanak tanıyacaktır"
      ],
      "metadata": {
        "id": "ya1Tragv9pnh"
      }
    },
    {
      "cell_type": "markdown",
      "source": [
        "#### Bağımlı değişkeni label olarak atama\n"
      ],
      "metadata": {
        "id": "yMtSuA3QDjeG"
      }
    },
    {
      "cell_type": "code",
      "source": [
        "#bağımlı değişkeni label olarak atama\n",
        "\n",
        "from pyspark.ml.feature import StringIndexer\n",
        "\n",
        "stringIndexer=StringIndexer(inputCol=\"Churn\", outputCol=\"label\")\n",
        "\n",
        "indexed=stringIndexer.fit(df).transform(df)"
      ],
      "metadata": {
        "id": "kTqus5UG7Bwl"
      },
      "execution_count": 74,
      "outputs": []
    },
    {
      "cell_type": "code",
      "source": [
        "indexed.dtypes"
      ],
      "metadata": {
        "colab": {
          "base_uri": "https://localhost:8080/"
        },
        "id": "W6kg5gch-XVA",
        "outputId": "4d145f53-7dfa-4763-c286-45f078b97c80"
      },
      "execution_count": 75,
      "outputs": [
        {
          "output_type": "execute_result",
          "data": {
            "text/plain": [
              "[('index', 'string'),\n",
              " ('Names', 'string'),\n",
              " ('Age', 'string'),\n",
              " ('Total_Purchase', 'string'),\n",
              " ('Account_Manager', 'string'),\n",
              " ('Years', 'string'),\n",
              " ('Num_Sites', 'string'),\n",
              " ('Churn', 'string'),\n",
              " ('label', 'double')]"
            ]
          },
          "metadata": {},
          "execution_count": 75
        }
      ]
    },
    {
      "cell_type": "code",
      "source": [
        "df = indexed.withColumn(\"label\",indexed.label.cast(\"integer\"))"
      ],
      "metadata": {
        "id": "GT5BXTrK-yJJ"
      },
      "execution_count": 76,
      "outputs": []
    },
    {
      "cell_type": "markdown",
      "source": [
        "Bu kod, spark dataframe API'si kullanılarak DataFrame üzerinde işlemler yapmak için yazılmıştır\n",
        "\n",
        "* \"cast()\" bir dataframe sütunundaki veri tiplerini dönüştürmeyi sağlar.\n",
        "\n",
        "* \"withColumn()\", dataframe üzerinde yeni bir sütun eklemek için kullanılır. withColumn() kullanılarak \"label\" sütunu üzerine yeni bir sütun eklenmiştir ve bu yeni sütunun adı \"label\" olarak belirlenmiştir. \"cast()\" ile birlikte kullanılarak \"label\" sütunun veri tipini string'den \"integer\"a dönüştütülmüştür"
      ],
      "metadata": {
        "id": "gg-wLXy1_58k"
      }
    },
    {
      "cell_type": "code",
      "source": [
        "df.dtypes"
      ],
      "metadata": {
        "colab": {
          "base_uri": "https://localhost:8080/"
        },
        "id": "Yut7DeW2AsZW",
        "outputId": "00e21614-9fa0-4dc0-abe4-30620b05dd08"
      },
      "execution_count": 77,
      "outputs": [
        {
          "output_type": "execute_result",
          "data": {
            "text/plain": [
              "[('index', 'string'),\n",
              " ('Names', 'string'),\n",
              " ('Age', 'string'),\n",
              " ('Total_Purchase', 'string'),\n",
              " ('Account_Manager', 'string'),\n",
              " ('Years', 'string'),\n",
              " ('Num_Sites', 'string'),\n",
              " ('Churn', 'string'),\n",
              " ('label', 'int')]"
            ]
          },
          "metadata": {},
          "execution_count": 77
        }
      ]
    },
    {
      "cell_type": "code",
      "source": [
        "df.show(5)"
      ],
      "metadata": {
        "colab": {
          "base_uri": "https://localhost:8080/"
        },
        "id": "JdZqB336BgOd",
        "outputId": "0c52d5fb-3121-42c2-e6ca-8b37353c2d5b"
      },
      "execution_count": 78,
      "outputs": [
        {
          "output_type": "stream",
          "name": "stdout",
          "text": [
            "+-----+----------------+----+--------------+---------------+-----+---------+-----+-----+\n",
            "|index|           Names| Age|Total_Purchase|Account_Manager|Years|Num_Sites|Churn|label|\n",
            "+-----+----------------+----+--------------+---------------+-----+---------+-----+-----+\n",
            "|    0|Cameron Williams|42.0|       11066.8|              0| 7.22|      8.0|    1|    1|\n",
            "|    1|   Kevin Mueller|41.0|      11916.22|              0|  6.5|     11.0|    1|    1|\n",
            "|    2|     Eric Lozano|38.0|      12884.75|              0| 6.67|     12.0|    1|    1|\n",
            "|    3|   Phillip White|42.0|       8010.76|              0| 6.71|     10.0|    1|    1|\n",
            "|    4|  Cynthia Norton|37.0|       9191.58|              0| 5.56|      9.0|    1|    1|\n",
            "+-----+----------------+----+--------------+---------------+-----+---------+-----+-----+\n",
            "only showing top 5 rows\n",
            "\n"
          ]
        }
      ]
    },
    {
      "cell_type": "code",
      "source": [
        "# veride int olmasu gerekenleri pyspark kodları ile düzenleme\n",
        "\n",
        "#Age,Total_Purchase,Account_Manager,Years,Num_Sites,Churn"
      ],
      "metadata": {
        "id": "DTrei0qRBKHs"
      },
      "execution_count": 79,
      "outputs": []
    },
    {
      "cell_type": "code",
      "source": [
        "from pyspark.sql.functions import col\n",
        "\n",
        "df=df.select([col(column).cast(\"integer\").alias(column)\n",
        "              if column in [\"index\",\"Age\",'Total_Purchase','Account_Manager','Years','Num_Sites','Churn'] else col(column)\n",
        "              for column in df.columns])"
      ],
      "metadata": {
        "id": "xaF_hYZ3C21z"
      },
      "execution_count": 80,
      "outputs": []
    },
    {
      "cell_type": "code",
      "source": [
        "df.dtypes"
      ],
      "metadata": {
        "colab": {
          "base_uri": "https://localhost:8080/"
        },
        "id": "E_NhzkfyDZ5s",
        "outputId": "d92b87f8-b2b1-42fa-d929-372e834f40fd"
      },
      "execution_count": 81,
      "outputs": [
        {
          "output_type": "execute_result",
          "data": {
            "text/plain": [
              "[('index', 'int'),\n",
              " ('Names', 'string'),\n",
              " ('Age', 'int'),\n",
              " ('Total_Purchase', 'int'),\n",
              " ('Account_Manager', 'int'),\n",
              " ('Years', 'int'),\n",
              " ('Num_Sites', 'int'),\n",
              " ('Churn', 'int'),\n",
              " ('label', 'int')]"
            ]
          },
          "metadata": {},
          "execution_count": 81
        }
      ]
    },
    {
      "cell_type": "markdown",
      "source": [
        "#### Bağımsız değişkenlere vektör atama\n"
      ],
      "metadata": {
        "id": "PSdlU3l0DnkJ"
      }
    },
    {
      "cell_type": "markdown",
      "source": [
        "* Tablo halinde saklanan verileri PySPark kullanarak işlemek için verileri kullanılacak özellik vektörüne dönüştürmek gerekebilir. **VectorAssembler** sınıfı, birden fazla sayısal sütunu tek bir özellik vektörüne birleştirmek için kullanılır"
      ],
      "metadata": {
        "id": "wfCC0bQqTxqN"
      }
    },
    {
      "cell_type": "code",
      "source": [
        "from pyspark.ml.feature import VectorAssembler"
      ],
      "metadata": {
        "id": "w30t8CE3EEel"
      },
      "execution_count": 82,
      "outputs": []
    },
    {
      "cell_type": "code",
      "source": [
        "depended=[\"Age\",'Total_Purchase','Account_Manager','Years','Num_Sites']"
      ],
      "metadata": {
        "id": "PpReESs3TYBU"
      },
      "execution_count": 83,
      "outputs": []
    },
    {
      "cell_type": "code",
      "source": [
        "#bu kod satırı depended listesi içinde belirtilen girdi sütunları ile \"features\" adlı bir çıktı sütunu oluşturur\n",
        "\n",
        "vectorAssembler=VectorAssembler(inputCols=depended, outputCol=\"features\")\n"
      ],
      "metadata": {
        "id": "wgXeqQ9UTRm5"
      },
      "execution_count": 84,
      "outputs": []
    },
    {
      "cell_type": "code",
      "source": [
        "features_vect=vectorAssembler.transform(df) #features sütunu ekledik"
      ],
      "metadata": {
        "id": "jjQhQRDXTjvT"
      },
      "execution_count": 86,
      "outputs": []
    },
    {
      "cell_type": "code",
      "source": [
        "features_vect.show()"
      ],
      "metadata": {
        "colab": {
          "base_uri": "https://localhost:8080/"
        },
        "id": "dbvtWxOxVFO6",
        "outputId": "394df31e-062c-4be2-ad46-532785ed948d"
      },
      "execution_count": 90,
      "outputs": [
        {
          "output_type": "stream",
          "name": "stdout",
          "text": [
            "+-----+-------------------+---+--------------+---------------+-----+---------+-----+-----+--------------------+\n",
            "|index|              Names|Age|Total_Purchase|Account_Manager|Years|Num_Sites|Churn|label|            features|\n",
            "+-----+-------------------+---+--------------+---------------+-----+---------+-----+-----+--------------------+\n",
            "|    0|   Cameron Williams| 42|         11066|              0|    7|        8|    1|    1|[42.0,11066.0,0.0...|\n",
            "|    1|      Kevin Mueller| 41|         11916|              0|    6|       11|    1|    1|[41.0,11916.0,0.0...|\n",
            "|    2|        Eric Lozano| 38|         12884|              0|    6|       12|    1|    1|[38.0,12884.0,0.0...|\n",
            "|    3|      Phillip White| 42|          8010|              0|    6|       10|    1|    1|[42.0,8010.0,0.0,...|\n",
            "|    4|     Cynthia Norton| 37|          9191|              0|    5|        9|    1|    1|[37.0,9191.0,0.0,...|\n",
            "|    5|   Jessica Williams| 48|         10356|              0|    5|        8|    1|    1|[48.0,10356.0,0.0...|\n",
            "|    6|        Eric Butler| 44|         11331|              1|    5|       11|    1|    1|[44.0,11331.0,1.0...|\n",
            "|    7|      Zachary Walsh| 32|          9885|              1|    6|        9|    1|    1|[32.0,9885.0,1.0,...|\n",
            "|    8|        Ashlee Carr| 43|         14062|              1|    5|       11|    1|    1|[43.0,14062.0,1.0...|\n",
            "|    9|     Jennifer Lynch| 40|          8066|              1|    7|       11|    1|    1|[40.0,8066.0,1.0,...|\n",
            "|   10|       Paula Harris| 30|         11575|              1|    5|        8|    1|    1|[30.0,11575.0,1.0...|\n",
            "|   11|     Bruce Phillips| 45|          8771|              1|    6|       11|    1|    1|[45.0,8771.0,1.0,...|\n",
            "|   12|       Craig Garner| 45|          8988|              1|    4|       11|    1|    1|[45.0,8988.0,1.0,...|\n",
            "|   13|       Nicole Olson| 40|          8283|              1|    5|       13|    1|    1|[40.0,8283.0,1.0,...|\n",
            "|   14|     Harold Griffin| 41|          6569|              1|    4|       11|    1|    1|[41.0,6569.0,1.0,...|\n",
            "|   15|       James Wright| 38|         10494|              1|    6|       12|    1|    1|[38.0,10494.0,1.0...|\n",
            "|   16|      Doris Wilkins| 45|          8213|              1|    7|       11|    1|    1|[45.0,8213.0,1.0,...|\n",
            "|   17|Katherine Carpenter| 43|         11226|              0|    8|       12|    1|    1|[43.0,11226.0,0.0...|\n",
            "|   18|     Lindsay Martin| 53|          5515|              0|    6|        8|    1|    1|[53.0,5515.0,0.0,...|\n",
            "|   19|        Kathy Curry| 46|          8046|              1|    5|        8|    1|    1|[46.0,8046.0,1.0,...|\n",
            "+-----+-------------------+---+--------------+---------------+-----+---------+-----+-----+--------------------+\n",
            "only showing top 20 rows\n",
            "\n"
          ]
        }
      ]
    },
    {
      "cell_type": "code",
      "source": [
        "final=features_vect.select(\"features\",\"label\")\n",
        "\n",
        "final.show()"
      ],
      "metadata": {
        "colab": {
          "base_uri": "https://localhost:8080/"
        },
        "id": "66iTB9XBUeoA",
        "outputId": "fef60cf0-f651-4002-a905-74f6ea8016ce"
      },
      "execution_count": 87,
      "outputs": [
        {
          "output_type": "stream",
          "name": "stdout",
          "text": [
            "+--------------------+-----+\n",
            "|            features|label|\n",
            "+--------------------+-----+\n",
            "|[42.0,11066.0,0.0...|    1|\n",
            "|[41.0,11916.0,0.0...|    1|\n",
            "|[38.0,12884.0,0.0...|    1|\n",
            "|[42.0,8010.0,0.0,...|    1|\n",
            "|[37.0,9191.0,0.0,...|    1|\n",
            "|[48.0,10356.0,0.0...|    1|\n",
            "|[44.0,11331.0,1.0...|    1|\n",
            "|[32.0,9885.0,1.0,...|    1|\n",
            "|[43.0,14062.0,1.0...|    1|\n",
            "|[40.0,8066.0,1.0,...|    1|\n",
            "|[30.0,11575.0,1.0...|    1|\n",
            "|[45.0,8771.0,1.0,...|    1|\n",
            "|[45.0,8988.0,1.0,...|    1|\n",
            "|[40.0,8283.0,1.0,...|    1|\n",
            "|[41.0,6569.0,1.0,...|    1|\n",
            "|[38.0,10494.0,1.0...|    1|\n",
            "|[45.0,8213.0,1.0,...|    1|\n",
            "|[43.0,11226.0,0.0...|    1|\n",
            "|[53.0,5515.0,0.0,...|    1|\n",
            "|[46.0,8046.0,1.0,...|    1|\n",
            "+--------------------+-----+\n",
            "only showing top 20 rows\n",
            "\n"
          ]
        }
      ]
    },
    {
      "cell_type": "code",
      "source": [
        "final.printSchema()"
      ],
      "metadata": {
        "colab": {
          "base_uri": "https://localhost:8080/"
        },
        "id": "39zhoUg_Um2N",
        "outputId": "ebfe3ec5-08c9-44f9-d656-a0aef36aebbf"
      },
      "execution_count": 88,
      "outputs": [
        {
          "output_type": "stream",
          "name": "stdout",
          "text": [
            "root\n",
            " |-- features: vector (nullable = true)\n",
            " |-- label: integer (nullable = true)\n",
            "\n"
          ]
        }
      ]
    },
    {
      "cell_type": "markdown",
      "source": [
        "#### Train ve Test datası oluşturma"
      ],
      "metadata": {
        "id": "AXqsQukxV2mP"
      }
    },
    {
      "cell_type": "code",
      "source": [
        "(trainData, testData)=final.randomSplit([0.7,0.3],seed=42)"
      ],
      "metadata": {
        "id": "-ltJc886VSc8"
      },
      "execution_count": 91,
      "outputs": []
    },
    {
      "cell_type": "code",
      "source": [
        "trainData.count()"
      ],
      "metadata": {
        "colab": {
          "base_uri": "https://localhost:8080/"
        },
        "id": "JSNZ2heKVgNt",
        "outputId": "deeff616-ed48-4d4e-ee6b-aa71f3b0717e"
      },
      "execution_count": 92,
      "outputs": [
        {
          "output_type": "execute_result",
          "data": {
            "text/plain": [
              "667"
            ]
          },
          "metadata": {},
          "execution_count": 92
        }
      ]
    },
    {
      "cell_type": "code",
      "source": [
        "testData.count()"
      ],
      "metadata": {
        "colab": {
          "base_uri": "https://localhost:8080/"
        },
        "id": "ooC0OPwSVj_4",
        "outputId": "71380b49-8246-4283-c190-dff8724ac73d"
      },
      "execution_count": 93,
      "outputs": [
        {
          "output_type": "execute_result",
          "data": {
            "text/plain": [
              "233"
            ]
          },
          "metadata": {},
          "execution_count": 93
        }
      ]
    },
    {
      "cell_type": "markdown",
      "source": [
        "## <font color=\"purple\"> Build the Model"
      ],
      "metadata": {
        "id": "HVU3glATVvB5"
      }
    },
    {
      "cell_type": "markdown",
      "source": [
        "* **GBTClassifier**, Gradient Boosted Trees algoritmasını uygulayan bir sınıflandırıcıdır. Bu algoritma, bir ağaç yapılandırması kullanarak tahmin yapar ve ardışık iterasyonlar yoluyla hataları azaltarak daha iyi bir tahmin yapmak için ağacın yapısını iyileştirir.\n",
        "\n",
        "* **maxIter** parametresi, ağaçların sayısını belirler.\n",
        "\n",
        "* **maxDepth** parametresi, ağaçların maksimum derinliğini belirler ve varsayılan değeri 5'tir. Bu değeri arttırarak veya azaltarak modelin performansını etkileyebiliriz\n",
        "\n"
      ],
      "metadata": {
        "id": "iGNb8akVWLWP"
      }
    },
    {
      "cell_type": "code",
      "source": [
        "from pyspark.ml.classification import GBTClassifier"
      ],
      "metadata": {
        "id": "BznYj4yGV1BL"
      },
      "execution_count": 119,
      "outputs": []
    },
    {
      "cell_type": "code",
      "source": [
        "gbm=GBTClassifier(maxIter=70,maxDepth=20,featuresCol=\"features\",labelCol=\"label\")"
      ],
      "metadata": {
        "id": "Zu2nXlCqWClY"
      },
      "execution_count": 127,
      "outputs": []
    },
    {
      "cell_type": "code",
      "source": [
        "gbm_model=gbm.fit(trainData)"
      ],
      "metadata": {
        "id": "-FfYLWXbXCu6"
      },
      "execution_count": 128,
      "outputs": []
    },
    {
      "cell_type": "code",
      "source": [
        "y_pred = gbm_model.transform(testData)"
      ],
      "metadata": {
        "id": "0JdIR9KMXHKU"
      },
      "execution_count": 129,
      "outputs": []
    },
    {
      "cell_type": "code",
      "source": [
        "y_pred.show()"
      ],
      "metadata": {
        "colab": {
          "base_uri": "https://localhost:8080/"
        },
        "id": "iDoquOuFXVBh",
        "outputId": "ab433adf-b0af-4d41-a704-3de9b6c1672a"
      },
      "execution_count": 130,
      "outputs": [
        {
          "output_type": "stream",
          "name": "stdout",
          "text": [
            "+--------------------+-----+--------------------+--------------------+----------+\n",
            "|            features|label|       rawPrediction|         probability|prediction|\n",
            "+--------------------+-----+--------------------+--------------------+----------+\n",
            "|[26.0,8787.0,1.0,...|    1|[2.05777319966183...|[0.98394494827477...|       0.0|\n",
            "|[28.0,9090.0,1.0,...|    0|[-2.0577731996618...|[0.01605505172522...|       1.0|\n",
            "|[28.0,11204.0,0.0...|    0|[2.05777319966183...|[0.98394494827477...|       0.0|\n",
            "|[28.0,11245.0,0.0...|    0|[2.05777319966183...|[0.98394494827477...|       0.0|\n",
            "|[29.0,9617.0,0.0,...|    0|[2.05777319966183...|[0.98394494827477...|       0.0|\n",
            "|[29.0,10203.0,1.0...|    0|[2.05777319966183...|[0.98394494827477...|       0.0|\n",
            "|[29.0,11274.0,1.0...|    0|[2.05777319966183...|[0.98394494827477...|       0.0|\n",
            "|[30.0,6744.0,0.0,...|    0|[-2.0577731996618...|[0.01605505172522...|       1.0|\n",
            "|[30.0,8403.0,1.0,...|    0|[2.05777319966183...|[0.98394494827477...|       0.0|\n",
            "|[30.0,8874.0,0.0,...|    0|[-2.0577731996618...|[0.01605505172522...|       1.0|\n",
            "|[30.0,10183.0,1.0...|    0|[-2.0577731996618...|[0.01605505172522...|       1.0|\n",
            "|[30.0,12788.0,0.0...|    0|[2.05777319966183...|[0.98394494827477...|       0.0|\n",
            "|[30.0,13473.0,0.0...|    0|[2.05777319966183...|[0.98394494827477...|       0.0|\n",
            "|[31.0,5304.0,0.0,...|    0|[2.05777319966183...|[0.98394494827477...|       0.0|\n",
            "|[31.0,7073.0,0.0,...|    0|[-2.0577731996618...|[0.01605505172522...|       1.0|\n",
            "|[31.0,8829.0,1.0,...|    0|[2.05777319966183...|[0.98394494827477...|       0.0|\n",
            "|[31.0,9574.0,0.0,...|    0|[2.05777319966183...|[0.98394494827477...|       0.0|\n",
            "|[31.0,11743.0,0.0...|    0|[2.05777319966183...|[0.98394494827477...|       0.0|\n",
            "|[32.0,6367.0,1.0,...|    0|[2.05777319966183...|[0.98394494827477...|       0.0|\n",
            "|[32.0,7896.0,0.0,...|    0|[2.05777319966183...|[0.98394494827477...|       0.0|\n",
            "+--------------------+-----+--------------------+--------------------+----------+\n",
            "only showing top 20 rows\n",
            "\n"
          ]
        }
      ]
    },
    {
      "cell_type": "markdown",
      "source": [
        "## <font color=\"purple\"> Accuracy of the Model"
      ],
      "metadata": {
        "id": "ah4wZejPYBfN"
      }
    },
    {
      "cell_type": "markdown",
      "source": [
        "* Modelimizin doğruluğunu hesaplamak için **MultiClassClassificationEvaluator** sınıfını kullanmamız gerekir.\n",
        "\n",
        "* Bu sınıf, çok sınıflı sınıflandırma modelleri için doğruluk(accuracy) gibi performans metriklerini hesaplar"
      ],
      "metadata": {
        "id": "4aU1fT-_YFP4"
      }
    },
    {
      "cell_type": "code",
      "source": [
        "from pyspark.ml.evaluation import  MulticlassClassificationEvaluator\n",
        "\n",
        "evaluator = MulticlassClassificationEvaluator(labelCol=\"label\",\n",
        "                                              predictionCol=\"prediction\",\n",
        "                                              metricName=\"accuracy\")"
      ],
      "metadata": {
        "id": "Uh5ObIj0YDrp"
      },
      "execution_count": 131,
      "outputs": []
    },
    {
      "cell_type": "code",
      "source": [
        "accuracy=evaluator.evaluate(y_pred)"
      ],
      "metadata": {
        "id": "nnxMMkhFY3oL"
      },
      "execution_count": 132,
      "outputs": []
    },
    {
      "cell_type": "code",
      "source": [
        "accuracy"
      ],
      "metadata": {
        "colab": {
          "base_uri": "https://localhost:8080/"
        },
        "id": "cJeo9OEwY_Po",
        "outputId": "0955f678-9433-4e0c-e260-eafbca759a24"
      },
      "execution_count": 133,
      "outputs": [
        {
          "output_type": "execute_result",
          "data": {
            "text/plain": [
              "0.8583690987124464"
            ]
          },
          "metadata": {},
          "execution_count": 133
        }
      ]
    },
    {
      "cell_type": "markdown",
      "source": [
        "## <font color=\"purple\"> Improve Accuracy - CrossValidator"
      ],
      "metadata": {
        "id": "ppSk_BxKZpqL"
      }
    },
    {
      "cell_type": "markdown",
      "source": [
        "* **CrossValidator**, modelimizin doğruluğunu arttırmak için kullanabileceğimiz bir doğrulama aracıdır. Bu araç, veri kümenizi belirli sayıda parçaya ayırır, her bir parçaya sırasıyla test verisi olarak kullanır ve diğer parçaları eğitim verisi olarak kullanarak modelinizi eğitir\n",
        "* CrossValidator aşağıdaki temel parametreleri alır:\n",
        "\n",
        "\n",
        "1.   **estimator**: modelinizi belirleyen bir estiamtor nesnesi\n",
        "2.   **evaluator**: model performansını değerlendirmek için bir evaluator nesnesi\n",
        "3.  **estimatorParamMaps**: farklı hiperparametre kombinasyonlarını belirten bir liste veya ızgara\n",
        "4.**numFolds**: veri kümenizi kaç parçaya böleceğinizi belirten bir sayı\n",
        "\n"
      ],
      "metadata": {
        "id": "KvNEBq25bLbZ"
      }
    },
    {
      "cell_type": "markdown",
      "source": [
        "* **ParamGridBuilder**, bir veya daha fazla hiperparametre kombinasyonlarının bir ızgarasını oluşturmanıza olanak tanır\n",
        "\n",
        "* Aşağıdaki kodda **maxIter** parametresi için [10,20] ve **maxDepth** parametresi için [5,10] değeriyle bir ızgara oluşturur."
      ],
      "metadata": {
        "id": "I3xIr2j8cpR4"
      }
    },
    {
      "cell_type": "code",
      "source": [
        "gbm_cv=GBTClassifier(featuresCol=\"features\",labelCol=\"label\")\n",
        "\n",
        "from pyspark.ml.tuning import ParamGridBuilder\n",
        "paramGrid = ParamGridBuilder() \\\n",
        "      .addGrid(gbm.maxIter, [10,20]) \\\n",
        "      .addGrid(gbm.maxDepth,[5,10]) \\\n",
        "      .build()"
      ],
      "metadata": {
        "id": "6Afy5IeSbnnk"
      },
      "execution_count": 134,
      "outputs": []
    },
    {
      "cell_type": "code",
      "source": [
        "evaluator = MulticlassClassificationEvaluator(labelCol=\"label\",\n",
        "                                              predictionCol=\"prediction\",\n",
        "                                              metricName=\"accuracy\")"
      ],
      "metadata": {
        "id": "9FfVdW8zcVIQ"
      },
      "execution_count": 135,
      "outputs": []
    },
    {
      "cell_type": "code",
      "source": [
        "from pyspark.ml.tuning import CrossValidator\n",
        "\n",
        "cv=CrossValidator(estimator=gbm_cv,\n",
        "                  estimatorParamMaps=paramGrid,\n",
        "                  evaluator=evaluator,\n",
        "                  numFolds=2)"
      ],
      "metadata": {
        "id": "5Pf6Q5-aZ0ob"
      },
      "execution_count": 137,
      "outputs": []
    },
    {
      "cell_type": "code",
      "source": [
        "cvModel=cv.fit(trainData)\n",
        "\n",
        "\n",
        "bestModel = cvModel.bestModel"
      ],
      "metadata": {
        "id": "1uopk_VOcXif"
      },
      "execution_count": 138,
      "outputs": []
    },
    {
      "cell_type": "code",
      "source": [
        "pred = bestModel.transform(testData)\n",
        "\n",
        "accuracy = evaluator.evaluate(pred)\n",
        "\n",
        "print(\"Test verilerinin doğruluğu: \",accuracy)"
      ],
      "metadata": {
        "colab": {
          "base_uri": "https://localhost:8080/"
        },
        "id": "lInD0yRBeBL-",
        "outputId": "166b9206-5f3a-4b5c-af45-e5b3946ce814"
      },
      "execution_count": 142,
      "outputs": [
        {
          "output_type": "stream",
          "name": "stdout",
          "text": [
            "Test verilerinin doğruluğu:  0.8497854077253219\n"
          ]
        }
      ]
    },
    {
      "cell_type": "code",
      "source": [
        "# accuracy'i arttıramadım :("
      ],
      "metadata": {
        "id": "emmU-A05ekyI"
      },
      "execution_count": 143,
      "outputs": []
    }
  ]
}